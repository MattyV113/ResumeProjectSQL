{
 "cells": [
  {
   "cell_type": "code",
   "execution_count": 7,
   "id": "4c5f833a",
   "metadata": {},
   "outputs": [],
   "source": [
    "import numpy as np # linear algebra\n",
    "import pandas as pd # pandas for dataframe based data processing and CSV file I/O\n",
    "import requests # for http requests\n",
    "from bs4 import BeautifulSoup # for html parsing and scraping\n",
    "import bs4\n",
    "import time\n",
    "from csv import writer"
   ]
  },
  {
   "cell_type": "code",
   "execution_count": 8,
   "id": "80761682",
   "metadata": {},
   "outputs": [
    {
     "name": "stdout",
     "output_type": "stream",
     "text": [
      "200\n"
     ]
    }
   ],
   "source": [
    "\n",
    "headers = {'My User-Agent': 'Mozilla/5.0 (Macintosh; Intel Mac OS X 10_15_7) AppleWebKit/537.36 (KHTML, like Gecko) Chrome/97.0.4692.99 Safari/537.36'}\n",
    "url = \"https://www.indeed.com/m/jobs?q=Data%20Analyst&l=United%20States&remotejob=1&salaryType=%2465%2C000&jt=fulltime&explvl=ENTRY_LEVEL&from=so\"\n",
    "page = requests.get(url)\n",
    "\n",
    "print(page.status_code)"
   ]
  },
  {
   "cell_type": "code",
   "execution_count": 9,
   "id": "1fa8e171",
   "metadata": {},
   "outputs": [
    {
     "name": "stdout",
     "output_type": "stream",
     "text": [
      "Data Analyst Jobs, Employment in United States | Indeed.com\n"
     ]
    }
   ],
   "source": [
    "soup = BeautifulSoup(page.text, 'html.parser')\n",
    "print(soup.title.text)"
   ]
  },
  {
   "cell_type": "code",
   "execution_count": 10,
   "id": "784b83a2",
   "metadata": {
    "scrolled": true
   },
   "outputs": [],
   "source": [
    "# creating html parser\n",
    "soup = BeautifulSoup(page.content, 'html.parser')\n",
    "results = soup.find_all('div', class_= \"job_seen_beacon\")\n",
    "\n"
   ]
  },
  {
   "cell_type": "code",
   "execution_count": 11,
   "id": "c036c4bf",
   "metadata": {},
   "outputs": [],
   "source": [
    "# creating a function to find text items and write them into a csv file called jobs.csv\n",
    "def check_jobs():\n",
    "    headers = {'My User-Agent': 'Mozilla/5.0 (Macintosh; Intel Mac OS X 10_15_7) AppleWebKit/537.36 (KHTML, like Gecko) Chrome/97.0.4692.99 Safari/537.36'}\n",
    "    url = \"https://www.indeed.com/m/jobs?q=Data%20Analyst&l=United%20States&remotejob=1&salaryType=%2465%2C000&jt=fulltime&explvl=ENTRY_LEVEL&from=so\"\n",
    "    page = requests.get(url)\n",
    "    \n",
    "    soup = BeautifulSoup(page.content, 'html.parser')\n",
    "    results = soup.find_all('div', class_= \"job_seen_beacon\")\n",
    "    \n",
    "    \n",
    "    with open('jobs.csv', 'w', encoding='utf8', newline='') as f:\n",
    "        thewriter = writer(f)\n",
    "        header = ['Title', 'Company', 'Location']\n",
    "        thewriter.writerow(header)\n",
    "        \n",
    "        for result in results:\n",
    "            title = result.find( 'div', class_=\"heading4\").text\n",
    "            company = result.find( 'span', class_=\"companyName\").text\n",
    "            location = result.find( 'div', class_=\"companyLocation\").text\n",
    "            info = [title, company, location]\n",
    "            thewriter.writerow(info)\n",
    "            \n"
   ]
  },
  {
   "cell_type": "code",
   "execution_count": 12,
   "id": "ea8b0a81",
   "metadata": {},
   "outputs": [],
   "source": [
    "# a while statement, this will run the created function and update it every 24 hours while running\n",
    "while (True):\n",
    "    check_jobs()\n",
    "    time.sleep(46500)"
   ]
  },
  {
   "cell_type": "code",
   "execution_count": null,
   "id": "f56962e0",
   "metadata": {},
   "outputs": [],
   "source": []
  }
 ],
 "metadata": {
  "interpreter": {
   "hash": "aee8b7b246df8f9039afb4144a1f6fd8d2ca17a180786b69acc140d282b71a49"
  },
  "kernelspec": {
   "display_name": "Python 3.10.1 64-bit",
   "name": "python3"
  },
  "language_info": {
   "codemirror_mode": {
    "name": "ipython",
    "version": 3
   },
   "file_extension": ".py",
   "mimetype": "text/x-python",
   "name": "python",
   "nbconvert_exporter": "python",
   "pygments_lexer": "ipython3",
   "version": "3.10.1"
  }
 },
 "nbformat": 4,
 "nbformat_minor": 5
}
